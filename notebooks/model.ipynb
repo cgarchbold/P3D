{
 "cells": [
  {
   "cell_type": "code",
   "execution_count": 1,
   "metadata": {},
   "outputs": [
    {
     "data": {
      "text/plain": [
       "==========================================================================================\n",
       "Layer (type:depth-idx)                   Output Shape              Param #\n",
       "==========================================================================================\n",
       "ResNetGenerator                          [32, 3, 256, 256]         --\n",
       "├─Linear: 1-1                            [32, 16384]               4,210,688\n",
       "├─Sequential: 1-2                        [32, 256, 256, 256]       --\n",
       "│    └─ResGenBlock: 2-1                  [32, 256, 16, 16]         --\n",
       "│    │    └─Sequential: 3-1              [32, 256, 16, 16]         1,181,184\n",
       "│    │    └─Sequential: 3-2              [32, 256, 16, 16]         65,792\n",
       "│    └─ResGenBlock: 2-2                  [32, 256, 32, 32]         --\n",
       "│    │    └─Sequential: 3-3              [32, 256, 32, 32]         1,181,184\n",
       "│    │    └─Sequential: 3-4              [32, 256, 32, 32]         65,792\n",
       "│    └─ResGenBlock: 2-3                  [32, 256, 64, 64]         --\n",
       "│    │    └─Sequential: 3-5              [32, 256, 64, 64]         1,181,184\n",
       "│    │    └─Sequential: 3-6              [32, 256, 64, 64]         65,792\n",
       "│    └─ResGenBlock: 2-4                  [32, 256, 128, 128]       --\n",
       "│    │    └─Sequential: 3-7              [32, 256, 128, 128]       1,181,184\n",
       "│    │    └─Sequential: 3-8              [32, 256, 128, 128]       65,792\n",
       "│    └─ResGenBlock: 2-5                  [32, 256, 256, 256]       --\n",
       "│    │    └─Sequential: 3-9              [32, 256, 256, 256]       1,181,184\n",
       "│    │    └─Sequential: 3-10             [32, 256, 256, 256]       65,792\n",
       "├─Sequential: 1-3                        [32, 3, 256, 256]         --\n",
       "│    └─BatchNorm2d: 2-6                  [32, 256, 256, 256]       512\n",
       "│    └─ReLU: 2-7                         [32, 256, 256, 256]       --\n",
       "│    └─Conv2d: 2-8                       [32, 3, 256, 256]         6,915\n",
       "│    └─Tanh: 2-9                         [32, 3, 256, 256]         --\n",
       "==========================================================================================\n",
       "Total params: 10,452,995\n",
       "Trainable params: 10,452,995\n",
       "Non-trainable params: 0\n",
       "Total mult-adds (Units.TERABYTES): 3.50\n",
       "==========================================================================================\n",
       "Input size (MB): 0.03\n",
       "Forward/backward pass size (MB): 28663.87\n",
       "Params size (MB): 41.81\n",
       "Estimated Total Size (MB): 28705.72\n",
       "=========================================================================================="
      ]
     },
     "execution_count": 1,
     "metadata": {},
     "output_type": "execute_result"
    }
   ],
   "source": [
    "from models import ResNetGenerator, ResNetDiscriminator, CNNDiscriminator256, CNNGenerator256\n",
    "from models import ResGenerator32, ResDiscriminator32, CNNDiscriminator, CNNGenerator\n",
    "import torch\n",
    "from torchinfo import summary\n",
    "\n",
    "model = ResNetGenerator(noise_dim=256)\n",
    "#model = CNNGenerator256()\n",
    "\n",
    "#input = torch.randn(64, 3,256,256)\n",
    "#input = torch.randn(64, 256)\n",
    "#model(input).shape\n",
    "\n",
    "summary(model, input_size=(64,128), depth=3)"
   ]
  },
  {
   "cell_type": "markdown",
   "metadata": {},
   "source": []
  },
  {
   "cell_type": "code",
   "execution_count": 2,
   "metadata": {},
   "outputs": [
    {
     "data": {
      "text/plain": [
       "torch.Size([64, 1])"
      ]
     },
     "execution_count": 2,
     "metadata": {},
     "output_type": "execute_result"
    }
   ],
   "source": [
    "d_model = ResNetDiscriminator()\n",
    "\n",
    "input = torch.randn(64,3,256,256)\n",
    "\n",
    "d_model(input).shape"
   ]
  },
  {
   "cell_type": "code",
   "execution_count": 3,
   "metadata": {},
   "outputs": [
    {
     "data": {
      "text/plain": [
       "==========================================================================================\n",
       "Layer (type:depth-idx)                   Output Shape              Param #\n",
       "==========================================================================================\n",
       "ResNetDiscriminator                      [64, 1]                   --\n",
       "├─Sequential: 1-1                        [64, 256, 64, 64]         --\n",
       "│    └─OptimizedResDisblock: 2-1         [64, 256, 128, 128]       --\n",
       "│    │    └─Sequential: 3-1              [64, 256, 128, 128]       597,248\n",
       "│    │    └─Sequential: 3-2              [64, 256, 128, 128]       1,024\n",
       "│    └─ResDisBlock: 2-2                  [64, 256, 64, 64]         --\n",
       "│    │    └─Sequential: 3-3              [64, 256, 64, 64]         1,180,160\n",
       "│    │    └─Sequential: 3-4              [64, 256, 64, 64]         65,792\n",
       "│    └─ResDisBlock: 2-3                  [64, 256, 64, 64]         --\n",
       "│    │    └─Sequential: 3-5              [64, 256, 64, 64]         1,180,160\n",
       "│    │    └─Sequential: 3-6              [64, 256, 64, 64]         --\n",
       "│    └─ResDisBlock: 2-4                  [64, 256, 64, 64]         --\n",
       "│    │    └─Sequential: 3-7              [64, 256, 64, 64]         1,180,160\n",
       "│    │    └─Sequential: 3-8              [64, 256, 64, 64]         --\n",
       "│    └─ResDisBlock: 2-5                  [64, 256, 64, 64]         --\n",
       "│    │    └─Sequential: 3-9              [64, 256, 64, 64]         1,180,160\n",
       "│    │    └─Sequential: 3-10             [64, 256, 64, 64]         --\n",
       "│    └─ReLU: 2-6                         [64, 256, 64, 64]         --\n",
       "├─Linear: 1-2                            [64, 1]                   257\n",
       "==========================================================================================\n",
       "Total params: 5,384,961\n",
       "Trainable params: 5,384,961\n",
       "Non-trainable params: 0\n",
       "Total mult-adds (Units.TERABYTES): 4.74\n",
       "==========================================================================================\n",
       "Input size (MB): 50.33\n",
       "Forward/backward pass size (MB): 28991.03\n",
       "Params size (MB): 21.54\n",
       "Estimated Total Size (MB): 29062.90\n",
       "=========================================================================================="
      ]
     },
     "execution_count": 3,
     "metadata": {},
     "output_type": "execute_result"
    }
   ],
   "source": [
    "summary(d_model, input_size=(64,3,256,256), depth=3)"
   ]
  }
 ],
 "metadata": {
  "kernelspec": {
   "display_name": "dp",
   "language": "python",
   "name": "python3"
  },
  "language_info": {
   "codemirror_mode": {
    "name": "ipython",
    "version": 3
   },
   "file_extension": ".py",
   "mimetype": "text/x-python",
   "name": "python",
   "nbconvert_exporter": "python",
   "pygments_lexer": "ipython3",
   "version": "3.11.5"
  },
  "orig_nbformat": 4
 },
 "nbformat": 4,
 "nbformat_minor": 2
}
