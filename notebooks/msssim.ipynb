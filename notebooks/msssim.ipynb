{
 "cells": [
  {
   "cell_type": "code",
   "execution_count": 4,
   "metadata": {},
   "outputs": [
    {
     "name": "stdout",
     "output_type": "stream",
     "text": [
      "0.057857222855091095\n",
      "0.06303948163986206\n",
      "0.03281361982226372\n",
      "0.0591604970395565\n",
      "0.04793333634734154\n",
      "0.05414189398288727\n",
      "0.05504821985960007\n",
      "0.05381572246551514\n",
      "0.05618010088801384\n",
      "0.06721646338701248\n",
      "0.05043349415063858\n",
      "0.034738197922706604\n",
      "0.03496536239981651\n",
      "0.04141034185886383\n",
      "0.0386754535138607\n",
      "0.09344469010829926\n",
      "0.07874604314565659\n",
      "0.038844943046569824\n"
     ]
    }
   ],
   "source": [
    "import numpy as np\n",
    "#import torch\n",
    "import torchvision.transforms as transforms\n",
    "from datasets import ProtestDataset\n",
    "from torchmetrics.image import MultiScaleStructuralSimilarityIndexMeasure\n",
    "\n",
    "\n",
    "\n",
    "transform = transforms.Compose([transforms.PILToTensor()])\n",
    "dataset = ProtestDataset(txt_file='/scratch/UCLA-protest-test/annot_test.txt', img_dir='/scratch/UCLA-protest-test/img/test', multi_label=True, transform=transform)\n",
    "\n",
    "average_ssims = []\n",
    "\n",
    "for i, sample1 in enumerate(dataset):\n",
    "    metric = MultiScaleStructuralSimilarityIndexMeasure(data_range=255)\n",
    "    \n",
    "    for j, sample2 in enumerate(dataset):\n",
    "        if i == j:\n",
    "            continue\n",
    "        metric.update(sample1['image'].unsqueeze(0).float(),sample2['image'].unsqueeze(0).float())\n",
    "    \n",
    "    print(metric.compute().item())\n",
    "    average_ssims.append(metric.compute().item())"
   ]
  }
 ],
 "metadata": {
  "kernelspec": {
   "display_name": "dp",
   "language": "python",
   "name": "python3"
  },
  "language_info": {
   "codemirror_mode": {
    "name": "ipython",
    "version": 3
   },
   "file_extension": ".py",
   "mimetype": "text/x-python",
   "name": "python",
   "nbconvert_exporter": "python",
   "pygments_lexer": "ipython3",
   "version": "3.11.5"
  }
 },
 "nbformat": 4,
 "nbformat_minor": 2
}
