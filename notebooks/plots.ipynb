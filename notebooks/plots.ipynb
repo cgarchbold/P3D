{
 "cells": [
  {
   "cell_type": "code",
   "execution_count": 1,
   "metadata": {},
   "outputs": [],
   "source": [
    "from plotting import plot_MNIST_samples\n",
    "import yaml\n",
    "import torch\n",
    "from models import get_model\n",
    "import os\n",
    "\n",
    "def get_config(config):\n",
    "    with open(config, 'r') as stream:\n",
    "        return yaml.safe_load(stream)\n",
    "\n",
    "config = get_config('./configs/ucla_gan32.yaml')\n",
    "\n",
    "discriminator, generator = get_model(config)\n",
    "\n",
    "generator = torch.nn.DataParallel(generator, device_ids=[0])\n",
    "\n",
    "checkpoint = torch.load(os.path.join('./ckpts',config['experiment_name'],'model.pt'))\n",
    "generator.load_state_dict(checkpoint['g_model_state_dict'])\n",
    "\n",
    "\n",
    "plot_MNIST_samples(generator,path='plots/ucla_latest_resnet.png',config=config)\n"
   ]
  }
 ],
 "metadata": {
  "kernelspec": {
   "display_name": "dp",
   "language": "python",
   "name": "python3"
  },
  "language_info": {
   "codemirror_mode": {
    "name": "ipython",
    "version": 3
   },
   "file_extension": ".py",
   "mimetype": "text/x-python",
   "name": "python",
   "nbconvert_exporter": "python",
   "pygments_lexer": "ipython3",
   "version": "3.11.5"
  }
 },
 "nbformat": 4,
 "nbformat_minor": 2
}
