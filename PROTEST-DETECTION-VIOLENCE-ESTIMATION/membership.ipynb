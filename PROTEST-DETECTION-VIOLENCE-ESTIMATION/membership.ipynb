{
 "cells": [
  {
   "cell_type": "code",
   "execution_count": 1,
   "metadata": {},
   "outputs": [],
   "source": [
    "# Open the file in read mode\n",
    "with open('/scratch/UCLA-protest/annot_train.txt', 'r') as file:\n",
    "    # Read all lines into a list\n",
    "    lines = file.readlines()\n",
    "\n",
    "# Initialize a list to store the image names with protest label 1\n",
    "protest_images = []\n",
    "\n",
    "# Iterate over the lines, skipping the first (header) line\n",
    "for line in lines[1:]:\n",
    "    # Split the line into columns\n",
    "    columns = line.strip().split('\\t')\n",
    "    # Check if the protest label is 1\n",
    "    if columns[1] == '1':\n",
    "        # Append the image name to the list\n",
    "        protest_images.append(columns[0])\n",
    "\n",
    "# Print the list of image names with protest label 1\n",
    "#print(protest_images)"
   ]
  },
  {
   "cell_type": "code",
   "execution_count": 2,
   "metadata": {},
   "outputs": [
    {
     "name": "stdout",
     "output_type": "stream",
     "text": [
      "Images copied successfully.\n"
     ]
    }
   ],
   "source": [
    "import shutil\n",
    "import os\n",
    "\n",
    "# Source and destination directories\n",
    "source_directory = '/scratch/UCLA-protest/img/train/'\n",
    "destination_directory = '/scratch/Protest-Membership/UCLA/'\n",
    "\n",
    "copied_count = 0\n",
    "\n",
    "# Iterate over the list of protest images\n",
    "for image_name in protest_images:\n",
    "    if copied_count >= 5000:\n",
    "        break  # Stop copying after 5000 images have been copied\n",
    "    \n",
    "    # Construct the source and destination paths for each image\n",
    "    source_path = os.path.join(source_directory, image_name)\n",
    "    destination_path = os.path.join(destination_directory, image_name)\n",
    "    # Copy the image to the destination directory\n",
    "    shutil.copy(source_path, destination_path)\n",
    "    \n",
    "    # Increment the counter\n",
    "    copied_count += 1\n",
    "\n",
    "print(\"Images copied successfully.\")"
   ]
  },
  {
   "cell_type": "code",
   "execution_count": 3,
   "metadata": {},
   "outputs": [],
   "source": [
    "import os\n",
    "import random\n",
    "import shutil\n",
    "\n",
    "# Path to the source directory containing the images\n",
    "source_dir = '/localdisk0/GDELT/cleaned_data_origsize'\n",
    "\n",
    "# Path to the destination directory where you want to copy the images\n",
    "destination_dir = '/scratch/Protest-Membership/VGKG/'\n",
    "\n",
    "# Number of images you want to copy\n",
    "num_images_to_copy = 5000\n",
    "\n",
    "# List all files in the source directory and its subdirectories\n",
    "all_files = []\n",
    "for root, dirs, files in os.walk(source_dir):\n",
    "    for file in files:\n",
    "        all_files.append(os.path.join(root, file))\n",
    "\n",
    "# Randomly select 5000 files from the list\n",
    "selected_files = random.sample(all_files, num_images_to_copy)\n",
    "\n",
    "# Copy the selected files to the destination directory\n",
    "for file_path in selected_files:\n",
    "    # Create the destination directory if it doesn't exist\n",
    "    os.makedirs(destination_dir, exist_ok=True)\n",
    "    # Copy the file to the destination directory\n",
    "    shutil.copy2(file_path, destination_dir)"
   ]
  },
  {
   "cell_type": "code",
   "execution_count": null,
   "metadata": {},
   "outputs": [],
   "source": []
  }
 ],
 "metadata": {
  "kernelspec": {
   "display_name": "dp",
   "language": "python",
   "name": "python3"
  },
  "language_info": {
   "codemirror_mode": {
    "name": "ipython",
    "version": 3
   },
   "file_extension": ".py",
   "mimetype": "text/x-python",
   "name": "python",
   "nbconvert_exporter": "python",
   "pygments_lexer": "ipython3",
   "version": "3.11.5"
  }
 },
 "nbformat": 4,
 "nbformat_minor": 2
}
